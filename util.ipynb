{
 "cells": [
  {
   "cell_type": "code",
   "execution_count": 7,
   "metadata": {},
   "outputs": [],
   "source": [
    "import numpy as np\n",
    "import random"
   ]
  },
  {
   "cell_type": "code",
   "execution_count": 20,
   "metadata": {},
   "outputs": [],
   "source": [
    "class Network:\n",
    "    def __init__(self, sizes):\n",
    "        self.n = sizes\n",
    "        self.N = len(sizes)\n",
    "        self.w = [np.random.rand(self.n[l-1],self.n[l]) for l in range(1,self.N)]\n",
    "        self.a = [np.random.rand(self.n[l],1) for l in range(self.N)]\n",
    "        self.b = [np.random.rand(self.n[l],1) for l in range(1,self.N)]\n",
    "        self.learning_rate_w = 0.5\n",
    "        self.learning_rate_b = 0.5\n",
    "    \n",
    "    def sigmoid(self, z):\n",
    "        return 1.0/(1.0+np.exp(-z))\n",
    "    \n",
    "    def sigmoid_prime(self, z):\n",
    "        return sigmoid(z)*sigmoid(1-z)\n",
    "    \n",
    "    def feedforward(self, x):\n",
    "        a[0] = np.array(x)\n",
    "        for l in range(1,N):\n",
    "            self.a[l] = sigmoid(np.dot(self.w[l-1].T,self.a[l-1]) + self.b[l-1])\n",
    "        \n",
    "    def output(self):\n",
    "        return self.a[self.N-1]\n",
    "    \n",
    "    "
   ]
  }
 ],
 "metadata": {
  "kernelspec": {
   "display_name": "Python 2",
   "language": "python",
   "name": "python2"
  },
  "language_info": {
   "codemirror_mode": {
    "name": "ipython",
    "version": 2
   },
   "file_extension": ".py",
   "mimetype": "text/x-python",
   "name": "python",
   "nbconvert_exporter": "python",
   "pygments_lexer": "ipython2",
   "version": "2.7.12"
  }
 },
 "nbformat": 4,
 "nbformat_minor": 2
}
