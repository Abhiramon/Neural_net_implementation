{
 "cells": [
  {
   "cell_type": "code",
   "execution_count": 9,
   "metadata": {},
   "outputs": [],
   "source": [
    "import numpy as np\n",
    "import random"
   ]
  },
  {
   "cell_type": "code",
   "execution_count": 11,
   "metadata": {},
   "outputs": [],
   "source": [
    "class Network:\n",
    "    def __init__(self, sizes):\n",
    "        self.n = sizes\n",
    "        self.N = len(sizes)\n",
    "        self.w = [np.random.rand(self.n[l],self.n[l-1]) for l in range(1,self.N)]\n",
    "        self.a = [np.random.rand(self.n[l],1) for l in range(self.N)]\n",
    "        self.b = [np.random.rand(self.n[l],1) for l in range(1,self.N)]\n",
    "        self.z = [np.random.rand(self.n[l],1) for l in range(1,self.N)]\n",
    "    \n",
    "    def sigmoid(self, z):\n",
    "        return 1.0/(1.0+np.exp(-z))\n",
    "    \n",
    "    def sigmoid_prime(self, z):\n",
    "        return self.sigmoid(z)*self.sigmoid(1-z)\n",
    "    \n",
    "    def feedforward(self, x):\n",
    "        self.a[0] = np.array(x)\n",
    "        for l in range(1,N):\n",
    "            self.z[l-1] = np.dot(self.w[l-1],self.a[l-1]) + self.b[l-1]\n",
    "            self.a[l] = self.sigmoid(self.z[l-1])\n",
    "     \n",
    "    def cost_derivative(self, output, y):\n",
    "        # Squared error cost\n",
    "        return (output - y)\n",
    "        \n",
    "    def backprop(self, x, y):\n",
    "        \n",
    "        error_w = [np.zeros(w.shape) for w in self.w]\n",
    "        error_b = [np.zeros(b.shape) for b in self.b]\n",
    "        delta = self.cost_derivative(self.a[-1], y) * sigmoid_prime(self.z[-1])\n",
    "        \n",
    "        error_b[-1] = delta\n",
    "        error_w[-1] = np.dot(delta,self.a[-2].T)\n",
    "        \n",
    "        for l in range(self.N-3)[::-1]:\n",
    "            delta = np.dot(self.w[l+1].T,delta) * sigmoid_prime(self.z[l])\n",
    "            error_b[l] = delta\n",
    "            error_w[l] = np.dot(delta, self.a[l].T)\n",
    "        \n",
    "        return error_w, error_b\n",
    "\n",
    "    def train_mini_batch(self, mini_batch, learning_rate):\n",
    "        avg_error_w = [np.zeros(w.shape) for w in self.w]\n",
    "        avg_error_b = [np.zeros(b.shape) for b in self.b]\n",
    "        \n",
    "        for x,y in mini_batch:\n",
    "            feedforward(x)\n",
    "            error_w, error_b = backprop(x,y)\n",
    "            avg_error_w = [a+b for a,b in zip(avg_error_w, error_w)]\n",
    "            avg_error_b = [a+b for a,b in zip(avg_error_b, error_b)]\n",
    "        self.w = [w - (learning_rate/len(mini_batch))*(e) for w,e in zip(self.w, avg_error_w)]\n",
    "        self.b = [b - (learning_rate/len(mini_batch))*(e) for w,e in zip(self.b, avg_error_b)]\n",
    "        \n",
    "    "
   ]
  },
  {
   "cell_type": "code",
   "execution_count": 8,
   "metadata": {},
   "outputs": [
    {
     "data": {
      "text/plain": [
       "[2, 1, 0]"
      ]
     },
     "execution_count": 8,
     "metadata": {},
     "output_type": "execute_result"
    }
   ],
   "source": []
  },
  {
   "cell_type": "code",
   "execution_count": null,
   "metadata": {},
   "outputs": [],
   "source": []
  }
 ],
 "metadata": {
  "kernelspec": {
   "display_name": "Python 2",
   "language": "python",
   "name": "python2"
  },
  "language_info": {
   "codemirror_mode": {
    "name": "ipython",
    "version": 2
   },
   "file_extension": ".py",
   "mimetype": "text/x-python",
   "name": "python",
   "nbconvert_exporter": "python",
   "pygments_lexer": "ipython2",
   "version": "2.7.12"
  }
 },
 "nbformat": 4,
 "nbformat_minor": 2
}
